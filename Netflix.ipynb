{
  "cells": [
    {
      "cell_type": "markdown",
      "metadata": {
        "id": "view-in-github",
        "colab_type": "text"
      },
      "source": [
        "<a href=\"https://colab.research.google.com/github/Prasang-Biyani/Netflix_Recommendation_EDA/blob/main/Netflix.ipynb\" target=\"_parent\"><img src=\"https://colab.research.google.com/assets/colab-badge.svg\" alt=\"Open In Colab\"/></a>"
      ]
    },
    {
      "cell_type": "markdown",
      "metadata": {
        "id": "--IKttdDSEhS"
      },
      "source": [
        "##<font color=\"red\" style=\"sans-serif\"> Netflix </font>\n",
        "\n",
        "Netflix is one of the most popular media and video streaming platforms. They have over 10000 movies or tv shows available on their platform, as of mid-2021, they have over 222M Subscribers globally. This tabular dataset consists of listings of all the movies and tv shows available on Netflix, along with details such as - cast, directors, ratings, release year, duration, etc."
      ]
    },
    {
      "cell_type": "markdown",
      "metadata": {
        "id": "R1VlaBYwQs7V"
      },
      "source": [
        "## <font color=\"red\" style=\"sans-serif\"> Business Problem Statement </font>\n",
        "\n",
        "Recommend/Propose a type of content(s) (movies or T.V shows) to produce on Netflix to increase user activity. The recommendations could be based on the geographical location (Country/state), most rated genre by the user, most-watched content by a particular director, cast, duration, etc. "
      ]
    },
    {
      "cell_type": "markdown",
      "metadata": {
        "id": "KZvlCvUxZ3tc"
      },
      "source": [
        "## <font color=\"red\"> Importing required libraries </font>"
      ]
    },
    {
      "cell_type": "code",
      "execution_count": null,
      "metadata": {
        "id": "tz6Q4wF0P_WX"
      },
      "outputs": [],
      "source": [
        "import pandas as pd\n",
        "import numpy as np\n",
        "import seaborn as sns\n",
        "import matplotlib.pyplot as plt\n",
        "%matplotlib inline\n",
        "\n",
        "from matplotlib import rcParams\n",
        "rcParams['figure.figsize'] = 20,10"
      ]
    },
    {
      "cell_type": "code",
      "execution_count": null,
      "metadata": {
        "id": "HMVEk8CQQEBe"
      },
      "outputs": [],
      "source": [
        "# read dataset\n",
        "# removing data source for privacy reasons\n",
        "df = pd.read_csv()"
      ]
    },
    {
      "cell_type": "code",
      "execution_count": null,
      "metadata": {
        "colab": {
          "base_uri": "https://localhost:8080/",
          "height": 337
        },
        "id": "qPLVI6eOQHq5",
        "outputId": "a4bd0f57-96f8-41cf-9ddf-2cade71d0ccb"
      },
      "outputs": [
        {
          "output_type": "execute_result",
          "data": {
            "text/plain": [
              "  show_id     type                  title         director  \\\n",
              "0      s1    Movie   Dick Johnson Is Dead  Kirsten Johnson   \n",
              "1      s2  TV Show          Blood & Water              NaN   \n",
              "2      s3  TV Show              Ganglands  Julien Leclercq   \n",
              "3      s4  TV Show  Jailbirds New Orleans              NaN   \n",
              "4      s5  TV Show           Kota Factory              NaN   \n",
              "\n",
              "                                                cast        country  \\\n",
              "0                                                NaN  United States   \n",
              "1  Ama Qamata, Khosi Ngema, Gail Mabalane, Thaban...   South Africa   \n",
              "2  Sami Bouajila, Tracy Gotoas, Samuel Jouy, Nabi...            NaN   \n",
              "3                                                NaN            NaN   \n",
              "4  Mayur More, Jitendra Kumar, Ranjan Raj, Alam K...          India   \n",
              "\n",
              "           date_added  release_year rating   duration  \\\n",
              "0  September 25, 2021          2020  PG-13     90 min   \n",
              "1  September 24, 2021          2021  TV-MA  2 Seasons   \n",
              "2  September 24, 2021          2021  TV-MA   1 Season   \n",
              "3  September 24, 2021          2021  TV-MA   1 Season   \n",
              "4  September 24, 2021          2021  TV-MA  2 Seasons   \n",
              "\n",
              "                                           listed_in  \\\n",
              "0                                      Documentaries   \n",
              "1    International TV Shows, TV Dramas, TV Mysteries   \n",
              "2  Crime TV Shows, International TV Shows, TV Act...   \n",
              "3                             Docuseries, Reality TV   \n",
              "4  International TV Shows, Romantic TV Shows, TV ...   \n",
              "\n",
              "                                         description  \n",
              "0  As her father nears the end of his life, filmm...  \n",
              "1  After crossing paths at a party, a Cape Town t...  \n",
              "2  To protect his family from a powerful drug lor...  \n",
              "3  Feuds, flirtations and toilet talk go down amo...  \n",
              "4  In a city of coaching centers known to train I...  "
            ],
            "text/html": [
              "\n",
              "  <div id=\"df-3178326b-2843-4f97-bd1e-f4904ff0fe3b\">\n",
              "    <div class=\"colab-df-container\">\n",
              "      <div>\n",
              "<style scoped>\n",
              "    .dataframe tbody tr th:only-of-type {\n",
              "        vertical-align: middle;\n",
              "    }\n",
              "\n",
              "    .dataframe tbody tr th {\n",
              "        vertical-align: top;\n",
              "    }\n",
              "\n",
              "    .dataframe thead th {\n",
              "        text-align: right;\n",
              "    }\n",
              "</style>\n",
              "<table border=\"1\" class=\"dataframe\">\n",
              "  <thead>\n",
              "    <tr style=\"text-align: right;\">\n",
              "      <th></th>\n",
              "      <th>show_id</th>\n",
              "      <th>type</th>\n",
              "      <th>title</th>\n",
              "      <th>director</th>\n",
              "      <th>cast</th>\n",
              "      <th>country</th>\n",
              "      <th>date_added</th>\n",
              "      <th>release_year</th>\n",
              "      <th>rating</th>\n",
              "      <th>duration</th>\n",
              "      <th>listed_in</th>\n",
              "      <th>description</th>\n",
              "    </tr>\n",
              "  </thead>\n",
              "  <tbody>\n",
              "    <tr>\n",
              "      <th>0</th>\n",
              "      <td>s1</td>\n",
              "      <td>Movie</td>\n",
              "      <td>Dick Johnson Is Dead</td>\n",
              "      <td>Kirsten Johnson</td>\n",
              "      <td>NaN</td>\n",
              "      <td>United States</td>\n",
              "      <td>September 25, 2021</td>\n",
              "      <td>2020</td>\n",
              "      <td>PG-13</td>\n",
              "      <td>90 min</td>\n",
              "      <td>Documentaries</td>\n",
              "      <td>As her father nears the end of his life, filmm...</td>\n",
              "    </tr>\n",
              "    <tr>\n",
              "      <th>1</th>\n",
              "      <td>s2</td>\n",
              "      <td>TV Show</td>\n",
              "      <td>Blood &amp; Water</td>\n",
              "      <td>NaN</td>\n",
              "      <td>Ama Qamata, Khosi Ngema, Gail Mabalane, Thaban...</td>\n",
              "      <td>South Africa</td>\n",
              "      <td>September 24, 2021</td>\n",
              "      <td>2021</td>\n",
              "      <td>TV-MA</td>\n",
              "      <td>2 Seasons</td>\n",
              "      <td>International TV Shows, TV Dramas, TV Mysteries</td>\n",
              "      <td>After crossing paths at a party, a Cape Town t...</td>\n",
              "    </tr>\n",
              "    <tr>\n",
              "      <th>2</th>\n",
              "      <td>s3</td>\n",
              "      <td>TV Show</td>\n",
              "      <td>Ganglands</td>\n",
              "      <td>Julien Leclercq</td>\n",
              "      <td>Sami Bouajila, Tracy Gotoas, Samuel Jouy, Nabi...</td>\n",
              "      <td>NaN</td>\n",
              "      <td>September 24, 2021</td>\n",
              "      <td>2021</td>\n",
              "      <td>TV-MA</td>\n",
              "      <td>1 Season</td>\n",
              "      <td>Crime TV Shows, International TV Shows, TV Act...</td>\n",
              "      <td>To protect his family from a powerful drug lor...</td>\n",
              "    </tr>\n",
              "    <tr>\n",
              "      <th>3</th>\n",
              "      <td>s4</td>\n",
              "      <td>TV Show</td>\n",
              "      <td>Jailbirds New Orleans</td>\n",
              "      <td>NaN</td>\n",
              "      <td>NaN</td>\n",
              "      <td>NaN</td>\n",
              "      <td>September 24, 2021</td>\n",
              "      <td>2021</td>\n",
              "      <td>TV-MA</td>\n",
              "      <td>1 Season</td>\n",
              "      <td>Docuseries, Reality TV</td>\n",
              "      <td>Feuds, flirtations and toilet talk go down amo...</td>\n",
              "    </tr>\n",
              "    <tr>\n",
              "      <th>4</th>\n",
              "      <td>s5</td>\n",
              "      <td>TV Show</td>\n",
              "      <td>Kota Factory</td>\n",
              "      <td>NaN</td>\n",
              "      <td>Mayur More, Jitendra Kumar, Ranjan Raj, Alam K...</td>\n",
              "      <td>India</td>\n",
              "      <td>September 24, 2021</td>\n",
              "      <td>2021</td>\n",
              "      <td>TV-MA</td>\n",
              "      <td>2 Seasons</td>\n",
              "      <td>International TV Shows, Romantic TV Shows, TV ...</td>\n",
              "      <td>In a city of coaching centers known to train I...</td>\n",
              "    </tr>\n",
              "  </tbody>\n",
              "</table>\n",
              "</div>\n",
              "      <button class=\"colab-df-convert\" onclick=\"convertToInteractive('df-3178326b-2843-4f97-bd1e-f4904ff0fe3b')\"\n",
              "              title=\"Convert this dataframe to an interactive table.\"\n",
              "              style=\"display:none;\">\n",
              "        \n",
              "  <svg xmlns=\"http://www.w3.org/2000/svg\" height=\"24px\"viewBox=\"0 0 24 24\"\n",
              "       width=\"24px\">\n",
              "    <path d=\"M0 0h24v24H0V0z\" fill=\"none\"/>\n",
              "    <path d=\"M18.56 5.44l.94 2.06.94-2.06 2.06-.94-2.06-.94-.94-2.06-.94 2.06-2.06.94zm-11 1L8.5 8.5l.94-2.06 2.06-.94-2.06-.94L8.5 2.5l-.94 2.06-2.06.94zm10 10l.94 2.06.94-2.06 2.06-.94-2.06-.94-.94-2.06-.94 2.06-2.06.94z\"/><path d=\"M17.41 7.96l-1.37-1.37c-.4-.4-.92-.59-1.43-.59-.52 0-1.04.2-1.43.59L10.3 9.45l-7.72 7.72c-.78.78-.78 2.05 0 2.83L4 21.41c.39.39.9.59 1.41.59.51 0 1.02-.2 1.41-.59l7.78-7.78 2.81-2.81c.8-.78.8-2.07 0-2.86zM5.41 20L4 18.59l7.72-7.72 1.47 1.35L5.41 20z\"/>\n",
              "  </svg>\n",
              "      </button>\n",
              "      \n",
              "  <style>\n",
              "    .colab-df-container {\n",
              "      display:flex;\n",
              "      flex-wrap:wrap;\n",
              "      gap: 12px;\n",
              "    }\n",
              "\n",
              "    .colab-df-convert {\n",
              "      background-color: #E8F0FE;\n",
              "      border: none;\n",
              "      border-radius: 50%;\n",
              "      cursor: pointer;\n",
              "      display: none;\n",
              "      fill: #1967D2;\n",
              "      height: 32px;\n",
              "      padding: 0 0 0 0;\n",
              "      width: 32px;\n",
              "    }\n",
              "\n",
              "    .colab-df-convert:hover {\n",
              "      background-color: #E2EBFA;\n",
              "      box-shadow: 0px 1px 2px rgba(60, 64, 67, 0.3), 0px 1px 3px 1px rgba(60, 64, 67, 0.15);\n",
              "      fill: #174EA6;\n",
              "    }\n",
              "\n",
              "    [theme=dark] .colab-df-convert {\n",
              "      background-color: #3B4455;\n",
              "      fill: #D2E3FC;\n",
              "    }\n",
              "\n",
              "    [theme=dark] .colab-df-convert:hover {\n",
              "      background-color: #434B5C;\n",
              "      box-shadow: 0px 1px 3px 1px rgba(0, 0, 0, 0.15);\n",
              "      filter: drop-shadow(0px 1px 2px rgba(0, 0, 0, 0.3));\n",
              "      fill: #FFFFFF;\n",
              "    }\n",
              "  </style>\n",
              "\n",
              "      <script>\n",
              "        const buttonEl =\n",
              "          document.querySelector('#df-3178326b-2843-4f97-bd1e-f4904ff0fe3b button.colab-df-convert');\n",
              "        buttonEl.style.display =\n",
              "          google.colab.kernel.accessAllowed ? 'block' : 'none';\n",
              "\n",
              "        async function convertToInteractive(key) {\n",
              "          const element = document.querySelector('#df-3178326b-2843-4f97-bd1e-f4904ff0fe3b');\n",
              "          const dataTable =\n",
              "            await google.colab.kernel.invokeFunction('convertToInteractive',\n",
              "                                                     [key], {});\n",
              "          if (!dataTable) return;\n",
              "\n",
              "          const docLinkHtml = 'Like what you see? Visit the ' +\n",
              "            '<a target=\"_blank\" href=https://colab.research.google.com/notebooks/data_table.ipynb>data table notebook</a>'\n",
              "            + ' to learn more about interactive tables.';\n",
              "          element.innerHTML = '';\n",
              "          dataTable['output_type'] = 'display_data';\n",
              "          await google.colab.output.renderOutput(dataTable, element);\n",
              "          const docLink = document.createElement('div');\n",
              "          docLink.innerHTML = docLinkHtml;\n",
              "          element.appendChild(docLink);\n",
              "        }\n",
              "      </script>\n",
              "    </div>\n",
              "  </div>\n",
              "  "
            ]
          },
          "metadata": {},
          "execution_count": 63
        }
      ],
      "source": [
        "# Quick glance of the dataset.\n",
        "df.head()"
      ]
    },
    {
      "cell_type": "code",
      "execution_count": null,
      "metadata": {
        "colab": {
          "base_uri": "https://localhost:8080/"
        },
        "id": "WMFo43mCQQdx",
        "outputId": "3a63cd62-a3b4-4347-dce9-48e4590c420b"
      },
      "outputs": [
        {
          "data": {
            "text/plain": [
              "(8807, 12)"
            ]
          },
          "execution_count": 5,
          "metadata": {},
          "output_type": "execute_result"
        }
      ],
      "source": [
        "#Shape\n",
        "df.shape"
      ]
    },
    {
      "cell_type": "markdown",
      "metadata": {
        "id": "xs0NU2-DShrg"
      },
      "source": [
        "##<font color=\"red\" style=\"sans-serif\"> Dataset Description: </font>\n",
        "\n",
        "<font color=\"cyan\">Dataset contains 8K data points and 12 features.</font>\n",
        "\n",
        "Following are the description of features:\n",
        "\n",
        "1.   show_id: Unique ID for every movie/T.V Series.\n",
        "2.   type: Type of content (Movie/T.V Show)\n",
        "3.   title: Movie/T.V Series title.\n",
        "4.   director: Director of the movie\n",
        "5.   cast: Actors/Actresses involved in the movie.\n",
        "6.   country: Country where the content was produced.\n",
        "7.   date_added: Date when it was added on Netflix\n",
        "8.   release_year: Actual release year of the content.\n",
        "9.   rating: rating of the content.\n",
        "10.   duration: total duration - in minutes or # of seasons.\n",
        "11.  listed_in: Genre of the content.\n",
        "12.  description: Summary of the content.\n",
        "\n"
      ]
    },
    {
      "cell_type": "code",
      "execution_count": null,
      "metadata": {
        "colab": {
          "base_uri": "https://localhost:8080/"
        },
        "id": "sj7hZSFbQSGh",
        "outputId": "f95fd8ae-eb0a-4e2c-b039-2453d99de356"
      },
      "outputs": [
        {
          "data": {
            "text/plain": [
              "show_id         object\n",
              "type            object\n",
              "title           object\n",
              "director        object\n",
              "cast            object\n",
              "country         object\n",
              "date_added      object\n",
              "release_year     int64\n",
              "rating          object\n",
              "duration        object\n",
              "listed_in       object\n",
              "description     object\n",
              "dtype: object"
            ]
          },
          "execution_count": 6,
          "metadata": {},
          "output_type": "execute_result"
        }
      ],
      "source": [
        "df.dtypes"
      ]
    },
    {
      "cell_type": "markdown",
      "metadata": {
        "id": "UQZ0MipZUsRd"
      },
      "source": [
        "<font color=\"cyan\"> Here the default data types of all the features are **object** except release year which is in **int64**. </font>"
      ]
    },
    {
      "cell_type": "code",
      "execution_count": null,
      "metadata": {
        "id": "N_Mxsuw0bE4i"
      },
      "outputs": [],
      "source": [
        "# Converting some of the attributes to categorical type as they are categories\n",
        "df['type'] = df['type'].astype(\"category\")"
      ]
    },
    {
      "cell_type": "code",
      "execution_count": null,
      "metadata": {
        "colab": {
          "base_uri": "https://localhost:8080/",
          "height": 300
        },
        "id": "HyzRaTB1Un9J",
        "outputId": "cff93aca-73c7-44ee-a8b6-09bf452a6455"
      },
      "outputs": [
        {
          "output_type": "execute_result",
          "data": {
            "text/plain": [
              "       release_year\n",
              "count   8807.000000\n",
              "mean    2014.180198\n",
              "std        8.819312\n",
              "min     1925.000000\n",
              "25%     2013.000000\n",
              "50%     2017.000000\n",
              "75%     2019.000000\n",
              "max     2021.000000"
            ],
            "text/html": [
              "\n",
              "  <div id=\"df-604fba4b-37d1-41f6-8442-1c9d9ff7f807\">\n",
              "    <div class=\"colab-df-container\">\n",
              "      <div>\n",
              "<style scoped>\n",
              "    .dataframe tbody tr th:only-of-type {\n",
              "        vertical-align: middle;\n",
              "    }\n",
              "\n",
              "    .dataframe tbody tr th {\n",
              "        vertical-align: top;\n",
              "    }\n",
              "\n",
              "    .dataframe thead th {\n",
              "        text-align: right;\n",
              "    }\n",
              "</style>\n",
              "<table border=\"1\" class=\"dataframe\">\n",
              "  <thead>\n",
              "    <tr style=\"text-align: right;\">\n",
              "      <th></th>\n",
              "      <th>release_year</th>\n",
              "    </tr>\n",
              "  </thead>\n",
              "  <tbody>\n",
              "    <tr>\n",
              "      <th>count</th>\n",
              "      <td>8807.000000</td>\n",
              "    </tr>\n",
              "    <tr>\n",
              "      <th>mean</th>\n",
              "      <td>2014.180198</td>\n",
              "    </tr>\n",
              "    <tr>\n",
              "      <th>std</th>\n",
              "      <td>8.819312</td>\n",
              "    </tr>\n",
              "    <tr>\n",
              "      <th>min</th>\n",
              "      <td>1925.000000</td>\n",
              "    </tr>\n",
              "    <tr>\n",
              "      <th>25%</th>\n",
              "      <td>2013.000000</td>\n",
              "    </tr>\n",
              "    <tr>\n",
              "      <th>50%</th>\n",
              "      <td>2017.000000</td>\n",
              "    </tr>\n",
              "    <tr>\n",
              "      <th>75%</th>\n",
              "      <td>2019.000000</td>\n",
              "    </tr>\n",
              "    <tr>\n",
              "      <th>max</th>\n",
              "      <td>2021.000000</td>\n",
              "    </tr>\n",
              "  </tbody>\n",
              "</table>\n",
              "</div>\n",
              "      <button class=\"colab-df-convert\" onclick=\"convertToInteractive('df-604fba4b-37d1-41f6-8442-1c9d9ff7f807')\"\n",
              "              title=\"Convert this dataframe to an interactive table.\"\n",
              "              style=\"display:none;\">\n",
              "        \n",
              "  <svg xmlns=\"http://www.w3.org/2000/svg\" height=\"24px\"viewBox=\"0 0 24 24\"\n",
              "       width=\"24px\">\n",
              "    <path d=\"M0 0h24v24H0V0z\" fill=\"none\"/>\n",
              "    <path d=\"M18.56 5.44l.94 2.06.94-2.06 2.06-.94-2.06-.94-.94-2.06-.94 2.06-2.06.94zm-11 1L8.5 8.5l.94-2.06 2.06-.94-2.06-.94L8.5 2.5l-.94 2.06-2.06.94zm10 10l.94 2.06.94-2.06 2.06-.94-2.06-.94-.94-2.06-.94 2.06-2.06.94z\"/><path d=\"M17.41 7.96l-1.37-1.37c-.4-.4-.92-.59-1.43-.59-.52 0-1.04.2-1.43.59L10.3 9.45l-7.72 7.72c-.78.78-.78 2.05 0 2.83L4 21.41c.39.39.9.59 1.41.59.51 0 1.02-.2 1.41-.59l7.78-7.78 2.81-2.81c.8-.78.8-2.07 0-2.86zM5.41 20L4 18.59l7.72-7.72 1.47 1.35L5.41 20z\"/>\n",
              "  </svg>\n",
              "      </button>\n",
              "      \n",
              "  <style>\n",
              "    .colab-df-container {\n",
              "      display:flex;\n",
              "      flex-wrap:wrap;\n",
              "      gap: 12px;\n",
              "    }\n",
              "\n",
              "    .colab-df-convert {\n",
              "      background-color: #E8F0FE;\n",
              "      border: none;\n",
              "      border-radius: 50%;\n",
              "      cursor: pointer;\n",
              "      display: none;\n",
              "      fill: #1967D2;\n",
              "      height: 32px;\n",
              "      padding: 0 0 0 0;\n",
              "      width: 32px;\n",
              "    }\n",
              "\n",
              "    .colab-df-convert:hover {\n",
              "      background-color: #E2EBFA;\n",
              "      box-shadow: 0px 1px 2px rgba(60, 64, 67, 0.3), 0px 1px 3px 1px rgba(60, 64, 67, 0.15);\n",
              "      fill: #174EA6;\n",
              "    }\n",
              "\n",
              "    [theme=dark] .colab-df-convert {\n",
              "      background-color: #3B4455;\n",
              "      fill: #D2E3FC;\n",
              "    }\n",
              "\n",
              "    [theme=dark] .colab-df-convert:hover {\n",
              "      background-color: #434B5C;\n",
              "      box-shadow: 0px 1px 3px 1px rgba(0, 0, 0, 0.15);\n",
              "      filter: drop-shadow(0px 1px 2px rgba(0, 0, 0, 0.3));\n",
              "      fill: #FFFFFF;\n",
              "    }\n",
              "  </style>\n",
              "\n",
              "      <script>\n",
              "        const buttonEl =\n",
              "          document.querySelector('#df-604fba4b-37d1-41f6-8442-1c9d9ff7f807 button.colab-df-convert');\n",
              "        buttonEl.style.display =\n",
              "          google.colab.kernel.accessAllowed ? 'block' : 'none';\n",
              "\n",
              "        async function convertToInteractive(key) {\n",
              "          const element = document.querySelector('#df-604fba4b-37d1-41f6-8442-1c9d9ff7f807');\n",
              "          const dataTable =\n",
              "            await google.colab.kernel.invokeFunction('convertToInteractive',\n",
              "                                                     [key], {});\n",
              "          if (!dataTable) return;\n",
              "\n",
              "          const docLinkHtml = 'Like what you see? Visit the ' +\n",
              "            '<a target=\"_blank\" href=https://colab.research.google.com/notebooks/data_table.ipynb>data table notebook</a>'\n",
              "            + ' to learn more about interactive tables.';\n",
              "          element.innerHTML = '';\n",
              "          dataTable['output_type'] = 'display_data';\n",
              "          await google.colab.output.renderOutput(dataTable, element);\n",
              "          const docLink = document.createElement('div');\n",
              "          docLink.innerHTML = docLinkHtml;\n",
              "          element.appendChild(docLink);\n",
              "        }\n",
              "      </script>\n",
              "    </div>\n",
              "  </div>\n",
              "  "
            ]
          },
          "metadata": {},
          "execution_count": 5
        }
      ],
      "source": [
        "df.describe()"
      ]
    },
    {
      "cell_type": "markdown",
      "metadata": {
        "id": "aSzBWL8kV6zS"
      },
      "source": [
        "<font color=\"cyan\"> A quick glance of the **release_year** column, tell us that dataset contains movies/T.V shows from 1925 to 2021, having 50% of the movies were released before 2017. </font>"
      ]
    },
    {
      "cell_type": "code",
      "execution_count": null,
      "metadata": {
        "colab": {
          "base_uri": "https://localhost:8080/"
        },
        "id": "Uz8P5_wUVJ66",
        "outputId": "1ef820ff-9063-40bc-8358-7705ce0e3be6"
      },
      "outputs": [
        {
          "output_type": "execute_result",
          "data": {
            "text/plain": [
              "show_id            0\n",
              "type               0\n",
              "title              0\n",
              "director        2634\n",
              "cast             825\n",
              "country          831\n",
              "date_added        10\n",
              "release_year       0\n",
              "rating             4\n",
              "duration           3\n",
              "listed_in          0\n",
              "description        0\n",
              "dtype: int64"
            ]
          },
          "metadata": {},
          "execution_count": 6
        }
      ],
      "source": [
        "# missing values from each column/feature\n",
        "df.isna().sum()"
      ]
    },
    {
      "cell_type": "code",
      "execution_count": null,
      "metadata": {
        "colab": {
          "base_uri": "https://localhost:8080/"
        },
        "id": "LZ79JLQKW6y_",
        "outputId": "6d2a3d5b-6907-4e4e-e0a2-ca6d6505ffd8"
      },
      "outputs": [
        {
          "output_type": "stream",
          "name": "stdout",
          "text": [
            "#missing values from the dataset 4307\n"
          ]
        }
      ],
      "source": [
        "# Total missing values from the dataset\n",
        "missing_values_count = df.isna().sum().sum()\n",
        "print(\"#missing values from the dataset\", missing_values_count)"
      ]
    },
    {
      "cell_type": "code",
      "execution_count": null,
      "metadata": {
        "colab": {
          "base_uri": "https://localhost:8080/"
        },
        "id": "KZsJJAaqYCRw",
        "outputId": "32e2893d-87fb-4d9b-b4a6-6ae360b2edd1"
      },
      "outputs": [
        {
          "output_type": "stream",
          "name": "stdout",
          "text": [
            "Percentage of missing values from the dataset is 48.9\n"
          ]
        }
      ],
      "source": [
        "# Percentage of missing values from the dataset\n",
        "missing_percentage = round((df.isna().sum().sum() / df.shape[0]) * 100, 2)\n",
        "print(\"Percentage of missing values from the dataset is\", missing_percentage)"
      ]
    },
    {
      "cell_type": "code",
      "execution_count": null,
      "metadata": {
        "colab": {
          "base_uri": "https://localhost:8080/"
        },
        "id": "QIkxa4MCYYV5",
        "outputId": "e37a53c3-fd77-4551-aef7-8d0b001188cf"
      },
      "outputs": [
        {
          "output_type": "execute_result",
          "data": {
            "text/plain": [
              "Movie      0.696151\n",
              "TV Show    0.303849\n",
              "Name: type, dtype: float64"
            ]
          },
          "metadata": {},
          "execution_count": 9
        }
      ],
      "source": [
        "df['type'].value_counts(normalize=True)"
      ]
    },
    {
      "cell_type": "markdown",
      "metadata": {
        "id": "vn4hb3eacK6A"
      },
      "source": [
        "<font color=\"cyan\"> About 69% of data consists of movies while rest of them are T.V showss </font>"
      ]
    },
    {
      "cell_type": "code",
      "execution_count": null,
      "metadata": {
        "colab": {
          "base_uri": "https://localhost:8080/"
        },
        "id": "bLpAJskPZ-E9",
        "outputId": "80e6a9ca-6cc2-4d63-e5c2-be3828a1c7ab"
      },
      "outputs": [
        {
          "output_type": "execute_result",
          "data": {
            "text/plain": [
              "United States     0.353310\n",
              "India             0.121866\n",
              "United Kingdom    0.052533\n",
              "Japan             0.030717\n",
              "South Korea       0.024950\n",
              "Name: country, dtype: float64"
            ]
          },
          "metadata": {},
          "execution_count": 10
        }
      ],
      "source": [
        "df['country'].value_counts(normalize=True)[:5]"
      ]
    },
    {
      "cell_type": "markdown",
      "metadata": {
        "id": "38O_W1uPg9w1"
      },
      "source": [
        "<font color=\"cyan\"> Majority of the content (Movies/TV Show) are produced in U.S making 35% contribution globally, while rest of them are coming from other countries. </font>"
      ]
    },
    {
      "cell_type": "code",
      "execution_count": null,
      "metadata": {
        "colab": {
          "base_uri": "https://localhost:8080/"
        },
        "id": "A0704A44g8ax",
        "outputId": "8c437e16-b99a-4dc3-ca46-fb54dbf779b4"
      },
      "outputs": [
        {
          "output_type": "execute_result",
          "data": {
            "text/plain": [
              "TV-MA    0.364308\n",
              "TV-14    0.245371\n",
              "TV-PG    0.098035\n",
              "R        0.090765\n",
              "PG-13    0.055663\n",
              "Name: rating, dtype: float64"
            ]
          },
          "metadata": {},
          "execution_count": 11
        }
      ],
      "source": [
        "df['rating'].value_counts(normalize=True)[:5]"
      ]
    },
    {
      "cell_type": "markdown",
      "metadata": {
        "id": "_-OMdQLwhVJm"
      },
      "source": [
        "<font color=\"cyan\">TV-MA is the common movie/T.V show rating having the count of 3207, making it about 36% of the ratings</font>"
      ]
    },
    {
      "cell_type": "markdown",
      "metadata": {
        "id": "ZReOD3OJkZNg"
      },
      "source": [
        "## <font color=\"red\">Separating movies and T.V show casts</font>"
      ]
    },
    {
      "cell_type": "code",
      "execution_count": null,
      "metadata": {
        "colab": {
          "base_uri": "https://localhost:8080/",
          "height": 206
        },
        "id": "yuEsSMBp-VBs",
        "outputId": "fee90011-f81f-4697-9f2f-934ec127c682"
      },
      "outputs": [
        {
          "output_type": "execute_result",
          "data": {
            "text/plain": [
              "                              title                       director  \\\n",
              "0              Dick Johnson Is Dead                Kirsten Johnson   \n",
              "1  My Little Pony: A New Generation  Robert Cullen, José Luis Ucha   \n",
              "2                           Sankofa                   Haile Gerima   \n",
              "3                      The Starling                 Theodore Melfi   \n",
              "4                      Je Suis Karl            Christian Schwochow   \n",
              "\n",
              "                                                cast  \\\n",
              "0                                                NaN   \n",
              "1  Vanessa Hudgens, Kimiko Glenn, James Marsden, ...   \n",
              "2  Kofi Ghanaba, Oyafunmike Ogunlano, Alexandra D...   \n",
              "3  Melissa McCarthy, Chris O'Dowd, Kevin Kline, T...   \n",
              "4  Luna Wedler, Jannis Niewöhner, Milan Peschel, ...   \n",
              "\n",
              "                                             country rating  \\\n",
              "0                                      United States  PG-13   \n",
              "1                                                NaN     PG   \n",
              "2  United States, Ghana, Burkina Faso, United Kin...  TV-MA   \n",
              "3                                      United States  PG-13   \n",
              "4                            Germany, Czech Republic  TV-MA   \n",
              "\n",
              "                                          listed_in  \n",
              "0                                     Documentaries  \n",
              "1                          Children & Family Movies  \n",
              "2  Dramas, Independent Movies, International Movies  \n",
              "3                                  Comedies, Dramas  \n",
              "4                      Dramas, International Movies  "
            ],
            "text/html": [
              "\n",
              "  <div id=\"df-435f344c-1a46-4558-987f-8a8925093bb3\">\n",
              "    <div class=\"colab-df-container\">\n",
              "      <div>\n",
              "<style scoped>\n",
              "    .dataframe tbody tr th:only-of-type {\n",
              "        vertical-align: middle;\n",
              "    }\n",
              "\n",
              "    .dataframe tbody tr th {\n",
              "        vertical-align: top;\n",
              "    }\n",
              "\n",
              "    .dataframe thead th {\n",
              "        text-align: right;\n",
              "    }\n",
              "</style>\n",
              "<table border=\"1\" class=\"dataframe\">\n",
              "  <thead>\n",
              "    <tr style=\"text-align: right;\">\n",
              "      <th></th>\n",
              "      <th>title</th>\n",
              "      <th>director</th>\n",
              "      <th>cast</th>\n",
              "      <th>country</th>\n",
              "      <th>rating</th>\n",
              "      <th>listed_in</th>\n",
              "    </tr>\n",
              "  </thead>\n",
              "  <tbody>\n",
              "    <tr>\n",
              "      <th>0</th>\n",
              "      <td>Dick Johnson Is Dead</td>\n",
              "      <td>Kirsten Johnson</td>\n",
              "      <td>NaN</td>\n",
              "      <td>United States</td>\n",
              "      <td>PG-13</td>\n",
              "      <td>Documentaries</td>\n",
              "    </tr>\n",
              "    <tr>\n",
              "      <th>1</th>\n",
              "      <td>My Little Pony: A New Generation</td>\n",
              "      <td>Robert Cullen, José Luis Ucha</td>\n",
              "      <td>Vanessa Hudgens, Kimiko Glenn, James Marsden, ...</td>\n",
              "      <td>NaN</td>\n",
              "      <td>PG</td>\n",
              "      <td>Children &amp; Family Movies</td>\n",
              "    </tr>\n",
              "    <tr>\n",
              "      <th>2</th>\n",
              "      <td>Sankofa</td>\n",
              "      <td>Haile Gerima</td>\n",
              "      <td>Kofi Ghanaba, Oyafunmike Ogunlano, Alexandra D...</td>\n",
              "      <td>United States, Ghana, Burkina Faso, United Kin...</td>\n",
              "      <td>TV-MA</td>\n",
              "      <td>Dramas, Independent Movies, International Movies</td>\n",
              "    </tr>\n",
              "    <tr>\n",
              "      <th>3</th>\n",
              "      <td>The Starling</td>\n",
              "      <td>Theodore Melfi</td>\n",
              "      <td>Melissa McCarthy, Chris O'Dowd, Kevin Kline, T...</td>\n",
              "      <td>United States</td>\n",
              "      <td>PG-13</td>\n",
              "      <td>Comedies, Dramas</td>\n",
              "    </tr>\n",
              "    <tr>\n",
              "      <th>4</th>\n",
              "      <td>Je Suis Karl</td>\n",
              "      <td>Christian Schwochow</td>\n",
              "      <td>Luna Wedler, Jannis Niewöhner, Milan Peschel, ...</td>\n",
              "      <td>Germany, Czech Republic</td>\n",
              "      <td>TV-MA</td>\n",
              "      <td>Dramas, International Movies</td>\n",
              "    </tr>\n",
              "  </tbody>\n",
              "</table>\n",
              "</div>\n",
              "      <button class=\"colab-df-convert\" onclick=\"convertToInteractive('df-435f344c-1a46-4558-987f-8a8925093bb3')\"\n",
              "              title=\"Convert this dataframe to an interactive table.\"\n",
              "              style=\"display:none;\">\n",
              "        \n",
              "  <svg xmlns=\"http://www.w3.org/2000/svg\" height=\"24px\"viewBox=\"0 0 24 24\"\n",
              "       width=\"24px\">\n",
              "    <path d=\"M0 0h24v24H0V0z\" fill=\"none\"/>\n",
              "    <path d=\"M18.56 5.44l.94 2.06.94-2.06 2.06-.94-2.06-.94-.94-2.06-.94 2.06-2.06.94zm-11 1L8.5 8.5l.94-2.06 2.06-.94-2.06-.94L8.5 2.5l-.94 2.06-2.06.94zm10 10l.94 2.06.94-2.06 2.06-.94-2.06-.94-.94-2.06-.94 2.06-2.06.94z\"/><path d=\"M17.41 7.96l-1.37-1.37c-.4-.4-.92-.59-1.43-.59-.52 0-1.04.2-1.43.59L10.3 9.45l-7.72 7.72c-.78.78-.78 2.05 0 2.83L4 21.41c.39.39.9.59 1.41.59.51 0 1.02-.2 1.41-.59l7.78-7.78 2.81-2.81c.8-.78.8-2.07 0-2.86zM5.41 20L4 18.59l7.72-7.72 1.47 1.35L5.41 20z\"/>\n",
              "  </svg>\n",
              "      </button>\n",
              "      \n",
              "  <style>\n",
              "    .colab-df-container {\n",
              "      display:flex;\n",
              "      flex-wrap:wrap;\n",
              "      gap: 12px;\n",
              "    }\n",
              "\n",
              "    .colab-df-convert {\n",
              "      background-color: #E8F0FE;\n",
              "      border: none;\n",
              "      border-radius: 50%;\n",
              "      cursor: pointer;\n",
              "      display: none;\n",
              "      fill: #1967D2;\n",
              "      height: 32px;\n",
              "      padding: 0 0 0 0;\n",
              "      width: 32px;\n",
              "    }\n",
              "\n",
              "    .colab-df-convert:hover {\n",
              "      background-color: #E2EBFA;\n",
              "      box-shadow: 0px 1px 2px rgba(60, 64, 67, 0.3), 0px 1px 3px 1px rgba(60, 64, 67, 0.15);\n",
              "      fill: #174EA6;\n",
              "    }\n",
              "\n",
              "    [theme=dark] .colab-df-convert {\n",
              "      background-color: #3B4455;\n",
              "      fill: #D2E3FC;\n",
              "    }\n",
              "\n",
              "    [theme=dark] .colab-df-convert:hover {\n",
              "      background-color: #434B5C;\n",
              "      box-shadow: 0px 1px 3px 1px rgba(0, 0, 0, 0.15);\n",
              "      filter: drop-shadow(0px 1px 2px rgba(0, 0, 0, 0.3));\n",
              "      fill: #FFFFFF;\n",
              "    }\n",
              "  </style>\n",
              "\n",
              "      <script>\n",
              "        const buttonEl =\n",
              "          document.querySelector('#df-435f344c-1a46-4558-987f-8a8925093bb3 button.colab-df-convert');\n",
              "        buttonEl.style.display =\n",
              "          google.colab.kernel.accessAllowed ? 'block' : 'none';\n",
              "\n",
              "        async function convertToInteractive(key) {\n",
              "          const element = document.querySelector('#df-435f344c-1a46-4558-987f-8a8925093bb3');\n",
              "          const dataTable =\n",
              "            await google.colab.kernel.invokeFunction('convertToInteractive',\n",
              "                                                     [key], {});\n",
              "          if (!dataTable) return;\n",
              "\n",
              "          const docLinkHtml = 'Like what you see? Visit the ' +\n",
              "            '<a target=\"_blank\" href=https://colab.research.google.com/notebooks/data_table.ipynb>data table notebook</a>'\n",
              "            + ' to learn more about interactive tables.';\n",
              "          element.innerHTML = '';\n",
              "          dataTable['output_type'] = 'display_data';\n",
              "          await google.colab.output.renderOutput(dataTable, element);\n",
              "          const docLink = document.createElement('div');\n",
              "          docLink.innerHTML = docLinkHtml;\n",
              "          element.appendChild(docLink);\n",
              "        }\n",
              "      </script>\n",
              "    </div>\n",
              "  </div>\n",
              "  "
            ]
          },
          "metadata": {},
          "execution_count": 12
        }
      ],
      "source": [
        "movie_mask = (df['type'] == \"Movie\")\n",
        "movies = df[movie_mask].reset_index().drop(['index', 'show_id', 'show_id', 'type', 'date_added', \n",
        "                        'release_year', 'duration', 'description'], axis=1)\n",
        "movies.head()"
      ]
    },
    {
      "cell_type": "markdown",
      "metadata": {
        "id": "f4lA4MVbnkTt"
      },
      "source": [
        "## <font color=\"red\"> Most frequently casted actor(s) in movies</font>"
      ]
    },
    {
      "cell_type": "code",
      "execution_count": null,
      "metadata": {
        "id": "ig9UU1cMneGL"
      },
      "outputs": [],
      "source": [
        "# Analysis of Movies Cast\n",
        "movies_cast = dict()\n",
        "for listed in movies['cast'].dropna().values:\n",
        "  for cast in listed.split(','):\n",
        "    if cast in movies_cast:\n",
        "      movies_cast[str(cast).strip()] += 1\n",
        "    else:\n",
        "      movies_cast[str(cast).strip()] = 1"
      ]
    },
    {
      "cell_type": "code",
      "execution_count": null,
      "metadata": {
        "colab": {
          "base_uri": "https://localhost:8080/"
        },
        "id": "UhuBb4OEoAZ7",
        "outputId": "60c8cb9e-96e8-488a-8bed-6985d9f42525"
      },
      "outputs": [
        {
          "output_type": "execute_result",
          "data": {
            "text/plain": [
              "[('Adam Sandler', 20),\n",
              " ('Vatsal Dubey', 16),\n",
              " ('Ahmed Helmy', 13),\n",
              " ('Samuel West', 11),\n",
              " ('Eddie Murphy', 10)]"
            ]
          },
          "metadata": {},
          "execution_count": 14
        }
      ],
      "source": [
        "movies_cast = sorted(movies_cast.items(), key=lambda x:x[1], reverse=True)\n",
        "movies_cast[:5]"
      ]
    },
    {
      "cell_type": "markdown",
      "metadata": {
        "id": "IU85pvWGxivF"
      },
      "source": [
        "## <font color=\"red\"> Most frequent movies director</font>"
      ]
    },
    {
      "cell_type": "code",
      "execution_count": null,
      "metadata": {
        "id": "oVv8jkUHxiFk"
      },
      "outputs": [],
      "source": [
        "# Analysis of Movies Director\n",
        "movies_director = dict()\n",
        "for listed in movies['director'].dropna().values:\n",
        "  for director in listed.split(','):\n",
        "    if director in movies_director:\n",
        "      movies_director[str(director).strip()] += 1\n",
        "    else:\n",
        "      movies_director[str(director).strip()] = 1"
      ]
    },
    {
      "cell_type": "code",
      "execution_count": null,
      "metadata": {
        "colab": {
          "base_uri": "https://localhost:8080/"
        },
        "id": "QPmvaF3Dx7lt",
        "outputId": "1da61071-43bc-4ac0-aa53-166dd63f3bb4"
      },
      "outputs": [
        {
          "output_type": "execute_result",
          "data": {
            "text/plain": [
              "[('Rajiv Chilaka', 22),\n",
              " ('Suhas Kadav', 16),\n",
              " ('Jay Karas', 15),\n",
              " ('Marcus Raboy', 15),\n",
              " ('Cathy Garcia-Molina', 13)]"
            ]
          },
          "metadata": {},
          "execution_count": 16
        }
      ],
      "source": [
        "movies_director = sorted(movies_director.items(), key=lambda x:x[1], reverse=True)\n",
        "movies_director[:5]"
      ]
    },
    {
      "cell_type": "markdown",
      "metadata": {
        "id": "oN4Lr9Sjy9Kn"
      },
      "source": [
        "## <font color=\"red\">Most frequent genres in Movies</font>"
      ]
    },
    {
      "cell_type": "code",
      "execution_count": null,
      "metadata": {
        "id": "GtdBiKmQzAmN"
      },
      "outputs": [],
      "source": [
        "# Analysis of Movies Director\n",
        "movies_genre = dict()\n",
        "for listed in movies['listed_in'].dropna().values:\n",
        "  for genre in listed.split(','):\n",
        "    if genre in movies_genre:\n",
        "      movies_genre[str(genre).strip()] += 1\n",
        "    else:\n",
        "      movies_genre[str(genre).strip()] = 1"
      ]
    },
    {
      "cell_type": "code",
      "execution_count": null,
      "metadata": {
        "colab": {
          "base_uri": "https://localhost:8080/"
        },
        "id": "ki7Jcs5ezIEY",
        "outputId": "ea97ebb5-758c-479d-fc37-c1f9bb57b807"
      },
      "outputs": [
        {
          "output_type": "execute_result",
          "data": {
            "text/plain": [
              "[('Action & Adventure', 859),\n",
              " ('Movies', 57),\n",
              " ('Stand-Up Comedy', 26),\n",
              " ('Documentaries', 19),\n",
              " ('Children & Family Movies', 5)]"
            ]
          },
          "metadata": {},
          "execution_count": 18
        }
      ],
      "source": [
        "movies_genre = sorted(movies_genre.items(), key=lambda x:x[1], reverse=True)\n",
        "movies_genre[:5]"
      ]
    },
    {
      "cell_type": "markdown",
      "metadata": {
        "id": "kfcYimIssxfH"
      },
      "source": [
        "## <font color=\"red\">Country which produced most of the movies</font>"
      ]
    },
    {
      "cell_type": "code",
      "execution_count": null,
      "metadata": {
        "colab": {
          "base_uri": "https://localhost:8080/"
        },
        "id": "iKLd3YUYswVr",
        "outputId": "b11435dd-47e2-4539-b6e3-14ce2dd972a2"
      },
      "outputs": [
        {
          "output_type": "execute_result",
          "data": {
            "text/plain": [
              "United States     2058\n",
              "India              893\n",
              "United Kingdom     206\n",
              "Canada             122\n",
              "Spain               97\n",
              "Name: country, dtype: int64"
            ]
          },
          "metadata": {},
          "execution_count": 19
        }
      ],
      "source": [
        "movies['country'].value_counts()[:5]"
      ]
    },
    {
      "cell_type": "code",
      "execution_count": null,
      "metadata": {
        "colab": {
          "base_uri": "https://localhost:8080/",
          "height": 206
        },
        "id": "w1rCYIDpm8cL",
        "outputId": "0149b0c1-2413-4aad-c7d8-6ceb1b64e675"
      },
      "outputs": [
        {
          "output_type": "execute_result",
          "data": {
            "text/plain": [
              "                   title         director  \\\n",
              "0          Blood & Water              NaN   \n",
              "1              Ganglands  Julien Leclercq   \n",
              "2  Jailbirds New Orleans              NaN   \n",
              "3           Kota Factory              NaN   \n",
              "4          Midnight Mass    Mike Flanagan   \n",
              "\n",
              "                                                cast       country rating  \\\n",
              "0  Ama Qamata, Khosi Ngema, Gail Mabalane, Thaban...  South Africa  TV-MA   \n",
              "1  Sami Bouajila, Tracy Gotoas, Samuel Jouy, Nabi...           NaN  TV-MA   \n",
              "2                                                NaN           NaN  TV-MA   \n",
              "3  Mayur More, Jitendra Kumar, Ranjan Raj, Alam K...         India  TV-MA   \n",
              "4  Kate Siegel, Zach Gilford, Hamish Linklater, H...           NaN  TV-MA   \n",
              "\n",
              "                                           listed_in  \n",
              "0    International TV Shows, TV Dramas, TV Mysteries  \n",
              "1  Crime TV Shows, International TV Shows, TV Act...  \n",
              "2                             Docuseries, Reality TV  \n",
              "3  International TV Shows, Romantic TV Shows, TV ...  \n",
              "4                 TV Dramas, TV Horror, TV Mysteries  "
            ],
            "text/html": [
              "\n",
              "  <div id=\"df-bdebdc1f-d189-4c1f-bd17-1a41b8a561d9\">\n",
              "    <div class=\"colab-df-container\">\n",
              "      <div>\n",
              "<style scoped>\n",
              "    .dataframe tbody tr th:only-of-type {\n",
              "        vertical-align: middle;\n",
              "    }\n",
              "\n",
              "    .dataframe tbody tr th {\n",
              "        vertical-align: top;\n",
              "    }\n",
              "\n",
              "    .dataframe thead th {\n",
              "        text-align: right;\n",
              "    }\n",
              "</style>\n",
              "<table border=\"1\" class=\"dataframe\">\n",
              "  <thead>\n",
              "    <tr style=\"text-align: right;\">\n",
              "      <th></th>\n",
              "      <th>title</th>\n",
              "      <th>director</th>\n",
              "      <th>cast</th>\n",
              "      <th>country</th>\n",
              "      <th>rating</th>\n",
              "      <th>listed_in</th>\n",
              "    </tr>\n",
              "  </thead>\n",
              "  <tbody>\n",
              "    <tr>\n",
              "      <th>0</th>\n",
              "      <td>Blood &amp; Water</td>\n",
              "      <td>NaN</td>\n",
              "      <td>Ama Qamata, Khosi Ngema, Gail Mabalane, Thaban...</td>\n",
              "      <td>South Africa</td>\n",
              "      <td>TV-MA</td>\n",
              "      <td>International TV Shows, TV Dramas, TV Mysteries</td>\n",
              "    </tr>\n",
              "    <tr>\n",
              "      <th>1</th>\n",
              "      <td>Ganglands</td>\n",
              "      <td>Julien Leclercq</td>\n",
              "      <td>Sami Bouajila, Tracy Gotoas, Samuel Jouy, Nabi...</td>\n",
              "      <td>NaN</td>\n",
              "      <td>TV-MA</td>\n",
              "      <td>Crime TV Shows, International TV Shows, TV Act...</td>\n",
              "    </tr>\n",
              "    <tr>\n",
              "      <th>2</th>\n",
              "      <td>Jailbirds New Orleans</td>\n",
              "      <td>NaN</td>\n",
              "      <td>NaN</td>\n",
              "      <td>NaN</td>\n",
              "      <td>TV-MA</td>\n",
              "      <td>Docuseries, Reality TV</td>\n",
              "    </tr>\n",
              "    <tr>\n",
              "      <th>3</th>\n",
              "      <td>Kota Factory</td>\n",
              "      <td>NaN</td>\n",
              "      <td>Mayur More, Jitendra Kumar, Ranjan Raj, Alam K...</td>\n",
              "      <td>India</td>\n",
              "      <td>TV-MA</td>\n",
              "      <td>International TV Shows, Romantic TV Shows, TV ...</td>\n",
              "    </tr>\n",
              "    <tr>\n",
              "      <th>4</th>\n",
              "      <td>Midnight Mass</td>\n",
              "      <td>Mike Flanagan</td>\n",
              "      <td>Kate Siegel, Zach Gilford, Hamish Linklater, H...</td>\n",
              "      <td>NaN</td>\n",
              "      <td>TV-MA</td>\n",
              "      <td>TV Dramas, TV Horror, TV Mysteries</td>\n",
              "    </tr>\n",
              "  </tbody>\n",
              "</table>\n",
              "</div>\n",
              "      <button class=\"colab-df-convert\" onclick=\"convertToInteractive('df-bdebdc1f-d189-4c1f-bd17-1a41b8a561d9')\"\n",
              "              title=\"Convert this dataframe to an interactive table.\"\n",
              "              style=\"display:none;\">\n",
              "        \n",
              "  <svg xmlns=\"http://www.w3.org/2000/svg\" height=\"24px\"viewBox=\"0 0 24 24\"\n",
              "       width=\"24px\">\n",
              "    <path d=\"M0 0h24v24H0V0z\" fill=\"none\"/>\n",
              "    <path d=\"M18.56 5.44l.94 2.06.94-2.06 2.06-.94-2.06-.94-.94-2.06-.94 2.06-2.06.94zm-11 1L8.5 8.5l.94-2.06 2.06-.94-2.06-.94L8.5 2.5l-.94 2.06-2.06.94zm10 10l.94 2.06.94-2.06 2.06-.94-2.06-.94-.94-2.06-.94 2.06-2.06.94z\"/><path d=\"M17.41 7.96l-1.37-1.37c-.4-.4-.92-.59-1.43-.59-.52 0-1.04.2-1.43.59L10.3 9.45l-7.72 7.72c-.78.78-.78 2.05 0 2.83L4 21.41c.39.39.9.59 1.41.59.51 0 1.02-.2 1.41-.59l7.78-7.78 2.81-2.81c.8-.78.8-2.07 0-2.86zM5.41 20L4 18.59l7.72-7.72 1.47 1.35L5.41 20z\"/>\n",
              "  </svg>\n",
              "      </button>\n",
              "      \n",
              "  <style>\n",
              "    .colab-df-container {\n",
              "      display:flex;\n",
              "      flex-wrap:wrap;\n",
              "      gap: 12px;\n",
              "    }\n",
              "\n",
              "    .colab-df-convert {\n",
              "      background-color: #E8F0FE;\n",
              "      border: none;\n",
              "      border-radius: 50%;\n",
              "      cursor: pointer;\n",
              "      display: none;\n",
              "      fill: #1967D2;\n",
              "      height: 32px;\n",
              "      padding: 0 0 0 0;\n",
              "      width: 32px;\n",
              "    }\n",
              "\n",
              "    .colab-df-convert:hover {\n",
              "      background-color: #E2EBFA;\n",
              "      box-shadow: 0px 1px 2px rgba(60, 64, 67, 0.3), 0px 1px 3px 1px rgba(60, 64, 67, 0.15);\n",
              "      fill: #174EA6;\n",
              "    }\n",
              "\n",
              "    [theme=dark] .colab-df-convert {\n",
              "      background-color: #3B4455;\n",
              "      fill: #D2E3FC;\n",
              "    }\n",
              "\n",
              "    [theme=dark] .colab-df-convert:hover {\n",
              "      background-color: #434B5C;\n",
              "      box-shadow: 0px 1px 3px 1px rgba(0, 0, 0, 0.15);\n",
              "      filter: drop-shadow(0px 1px 2px rgba(0, 0, 0, 0.3));\n",
              "      fill: #FFFFFF;\n",
              "    }\n",
              "  </style>\n",
              "\n",
              "      <script>\n",
              "        const buttonEl =\n",
              "          document.querySelector('#df-bdebdc1f-d189-4c1f-bd17-1a41b8a561d9 button.colab-df-convert');\n",
              "        buttonEl.style.display =\n",
              "          google.colab.kernel.accessAllowed ? 'block' : 'none';\n",
              "\n",
              "        async function convertToInteractive(key) {\n",
              "          const element = document.querySelector('#df-bdebdc1f-d189-4c1f-bd17-1a41b8a561d9');\n",
              "          const dataTable =\n",
              "            await google.colab.kernel.invokeFunction('convertToInteractive',\n",
              "                                                     [key], {});\n",
              "          if (!dataTable) return;\n",
              "\n",
              "          const docLinkHtml = 'Like what you see? Visit the ' +\n",
              "            '<a target=\"_blank\" href=https://colab.research.google.com/notebooks/data_table.ipynb>data table notebook</a>'\n",
              "            + ' to learn more about interactive tables.';\n",
              "          element.innerHTML = '';\n",
              "          dataTable['output_type'] = 'display_data';\n",
              "          await google.colab.output.renderOutput(dataTable, element);\n",
              "          const docLink = document.createElement('div');\n",
              "          docLink.innerHTML = docLinkHtml;\n",
              "          element.appendChild(docLink);\n",
              "        }\n",
              "      </script>\n",
              "    </div>\n",
              "  </div>\n",
              "  "
            ]
          },
          "metadata": {},
          "execution_count": 20
        }
      ],
      "source": [
        "tv_mask = (df['type'] == \"TV Show\")\n",
        "tv = df[tv_mask].reset_index().drop(['index', 'show_id', 'show_id', 'type', 'date_added', \n",
        "                        'release_year', 'duration', 'description'], axis=1)\n",
        "tv.head()"
      ]
    },
    {
      "cell_type": "markdown",
      "metadata": {
        "id": "fuBaC0KAohT-"
      },
      "source": [
        "## <font color=\"red\"> Most frequently casted actor(s) in T.V Shows </font>"
      ]
    },
    {
      "cell_type": "code",
      "execution_count": null,
      "metadata": {
        "id": "IJIhy8nLoV7i"
      },
      "outputs": [],
      "source": [
        "# Analysis of TV Show Cast\n",
        "tv_cast = dict()\n",
        "for listed in tv['cast'].dropna().values:\n",
        "  for cast in listed.split(','):\n",
        "    if cast in tv_cast:\n",
        "      tv_cast[str(cast).strip()] += 1           \n",
        "    else:\n",
        "      tv_cast[str(cast).strip()] = 1"
      ]
    },
    {
      "cell_type": "code",
      "execution_count": null,
      "metadata": {
        "colab": {
          "base_uri": "https://localhost:8080/"
        },
        "id": "ez3voPVLpbQq",
        "outputId": "7380820b-ca03-4611-d8b9-3bbd1bc80bd2"
      },
      "outputs": [
        {
          "output_type": "execute_result",
          "data": {
            "text/plain": [
              "[('David Attenborough', 14),\n",
              " ('Michela Luci', 7),\n",
              " ('Tara Strong', 4),\n",
              " ('You', 4),\n",
              " ('Natsuki Hanae', 4)]"
            ]
          },
          "metadata": {},
          "execution_count": 22
        }
      ],
      "source": [
        "tv_cast = sorted(tv_cast.items(), key=lambda x:x[1], reverse=True)\n",
        "tv_cast[:5]"
      ]
    },
    {
      "cell_type": "markdown",
      "metadata": {
        "id": "smwlfR6pyFrO"
      },
      "source": [
        "## <font color=\"red\" >Most Frequent TV Show director(s) </font>"
      ]
    },
    {
      "cell_type": "code",
      "execution_count": null,
      "metadata": {
        "id": "ng2usD-CyFVd"
      },
      "outputs": [],
      "source": [
        "# Analysis of TV Director\n",
        "tv_director = dict()\n",
        "for listed in tv['director'].dropna().values:\n",
        "  for director in listed.split(','):\n",
        "    if director in tv_director:\n",
        "      tv_director[str(director).strip()] += 1\n",
        "    else:\n",
        "      tv_director[str(director).strip()] = 1"
      ]
    },
    {
      "cell_type": "code",
      "execution_count": null,
      "metadata": {
        "colab": {
          "base_uri": "https://localhost:8080/"
        },
        "id": "BIh5eiQ3yWY3",
        "outputId": "b05f02a9-fed7-40cf-f74c-3e8435538aa9"
      },
      "outputs": [
        {
          "output_type": "execute_result",
          "data": {
            "text/plain": [
              "[('Alastair Fothergill', 3),\n",
              " ('Ken Burns', 3),\n",
              " ('Hsu Fu-chun', 2),\n",
              " ('Rob Seidenglanz', 2),\n",
              " ('Joe Berlinger', 2)]"
            ]
          },
          "metadata": {},
          "execution_count": 24
        }
      ],
      "source": [
        "tv_director = sorted(tv_director.items(), key=lambda x:x[1], reverse=True)\n",
        "tv_director[:5]"
      ]
    },
    {
      "cell_type": "markdown",
      "metadata": {
        "id": "9x9XykQ5-o2v"
      },
      "source": [
        "## <font color=\"red\"> Most Frequent TV Show Genre(s) </font>"
      ]
    },
    {
      "cell_type": "code",
      "execution_count": null,
      "metadata": {
        "id": "Tw5PIuy97TNF"
      },
      "outputs": [],
      "source": [
        "# Analysis of TV Genre\n",
        "tv_genre = dict()\n",
        "for listed in tv['listed_in'].dropna().values:\n",
        "  for genre in listed.split(','):\n",
        "    if genre in tv_genre:\n",
        "      tv_genre[str(genre).strip()] += 1\n",
        "    else:\n",
        "      tv_genre[str(genre).strip()] = 1"
      ]
    },
    {
      "cell_type": "code",
      "execution_count": null,
      "metadata": {
        "colab": {
          "base_uri": "https://localhost:8080/"
        },
        "id": "AkSXVFFn7af3",
        "outputId": "f9d1ccb9-6b69-4790-eda2-c86268e480f1"
      },
      "outputs": [
        {
          "output_type": "execute_result",
          "data": {
            "text/plain": [
              "[('British TV Shows', 253),\n",
              " ('Anime Series', 176),\n",
              " ('TV Shows', 16),\n",
              " ('International TV Shows', 8),\n",
              " (\"Kids' TV\", 3)]"
            ]
          },
          "metadata": {},
          "execution_count": 28
        }
      ],
      "source": [
        "tv_genre = sorted(tv_genre.items(), key=lambda x:x[1], reverse=True)\n",
        "tv_genre[:5]"
      ]
    },
    {
      "cell_type": "markdown",
      "metadata": {
        "id": "SF8k0-PVuC1X"
      },
      "source": [
        "## <font color=\"red\"> Most frequent Countries for TV Show </font>"
      ]
    },
    {
      "cell_type": "code",
      "execution_count": null,
      "metadata": {
        "colab": {
          "base_uri": "https://localhost:8080/"
        },
        "id": "IP6rNu13uBxp",
        "outputId": "d3bcacf6-f617-4692-f12c-30d084d1341f"
      },
      "outputs": [
        {
          "output_type": "execute_result",
          "data": {
            "text/plain": [
              "United States     760\n",
              "United Kingdom    213\n",
              "Japan             169\n",
              "South Korea       158\n",
              "India              79\n",
              "Name: country, dtype: int64"
            ]
          },
          "metadata": {},
          "execution_count": 29
        }
      ],
      "source": [
        "tv['country'].value_counts()[:5]"
      ]
    },
    {
      "cell_type": "markdown",
      "metadata": {
        "id": "gudd2be7zLy4"
      },
      "source": [
        "## <font color=\"red\"> Shifting focus to general features such as date_added, release_year, duration, etc. </font>"
      ]
    },
    {
      "cell_type": "code",
      "execution_count": null,
      "metadata": {
        "colab": {
          "base_uri": "https://localhost:8080/"
        },
        "id": "B1loZZVRXPCa",
        "outputId": "bb3c0dca-b671-435c-ebc7-a109fc302648"
      },
      "outputs": [
        {
          "output_type": "execute_result",
          "data": {
            "text/plain": [
              "January 1, 2020      109\n",
              "November 1, 2019      89\n",
              "March 1, 2018         75\n",
              "December 31, 2019     74\n",
              "October 1, 2018       71\n",
              "Name: date_added, dtype: int64"
            ]
          },
          "metadata": {},
          "execution_count": 30
        }
      ],
      "source": [
        "df['date_added'].value_counts()[:5]"
      ]
    },
    {
      "cell_type": "markdown",
      "metadata": {
        "id": "Qy7rl7uWXrto"
      },
      "source": [
        "<font color=\"cyan\"> Most of the movies/T.V shows were added on 1st January, 2020 followed by 1st November, 2019 </font>"
      ]
    },
    {
      "cell_type": "code",
      "execution_count": null,
      "metadata": {
        "colab": {
          "base_uri": "https://localhost:8080/"
        },
        "id": "EkFQUlvfaJTS",
        "outputId": "5488de43-b30e-4628-e284-7c6b244ec929"
      },
      "outputs": [
        {
          "output_type": "execute_result",
          "data": {
            "text/plain": [
              "2018    1147\n",
              "2017    1032\n",
              "2019    1030\n",
              "2020     953\n",
              "2016     902\n",
              "Name: release_year, dtype: int64"
            ]
          },
          "metadata": {},
          "execution_count": 31
        }
      ],
      "source": [
        "df['release_year'].value_counts()[:5]"
      ]
    },
    {
      "cell_type": "markdown",
      "metadata": {
        "id": "dbuK5RNGaSc0"
      },
      "source": [
        "\n",
        "<font color=\"cyan\"> Few observations here: </font>\n",
        " \n",
        "\n",
        "\n",
        "1.   From the **release_year** analysis, it looks like most of the content was released on 2018, followed by 2017.\n",
        "2.   But, from the **date_added**, most of them were uploaded on 2020. So, that means on average, there was a gap of 2 years between release year and date_added. \n",
        "3.   One reason could be COVID-19, when most of the users were watching from their home rather than going to theatres. So, Netflix might have added more content in 2020.\n",
        "\n"
      ]
    },
    {
      "cell_type": "code",
      "execution_count": null,
      "metadata": {
        "colab": {
          "base_uri": "https://localhost:8080/"
        },
        "id": "HJb0JEX_iIGE",
        "outputId": "12634b5c-2908-4304-8194-d9d4345dbe7b"
      },
      "outputs": [
        {
          "output_type": "execute_result",
          "data": {
            "text/plain": [
              "1 Season     1793\n",
              "2 Seasons     425\n",
              "3 Seasons     199\n",
              "90 min        152\n",
              "94 min        146\n",
              "             ... \n",
              "16 min          1\n",
              "186 min         1\n",
              "193 min         1\n",
              "189 min         1\n",
              "191 min         1\n",
              "Name: duration, Length: 220, dtype: int64"
            ]
          },
          "metadata": {},
          "execution_count": 32
        }
      ],
      "source": [
        "df['duration'].value_counts()"
      ]
    },
    {
      "cell_type": "markdown",
      "metadata": {
        "id": "cz9D991tiNq4"
      },
      "source": [
        "<font color=\"cyan\"> Most of the times only 1 season has been uploaded on Netflix or the show stopped producing after 1st season. </font>"
      ]
    },
    {
      "cell_type": "markdown",
      "metadata": {
        "id": "tIp-NgYTr_3l"
      },
      "source": [
        "## <font color=\"red\">Visualizing Analysis</font>"
      ]
    },
    {
      "cell_type": "code",
      "execution_count": null,
      "metadata": {
        "colab": {
          "base_uri": "https://localhost:8080/",
          "height": 606
        },
        "id": "BcT34u-2cIxm",
        "outputId": "fcabfeb6-7b57-49bb-f923-cf096c283537"
      },
      "outputs": [
        {
          "output_type": "display_data",
          "data": {
            "text/plain": [
              "<Figure size 1440x720 with 1 Axes>"
            ],
            "image/png": "[encoded data removed]"
          },
          "metadata": {
            "needs_background": "light"
          }
        }
      ],
      "source": [
        "# Analying type\n",
        "sns.countplot(data=df, x='type', palette='YlGnBu')\n",
        "plt.show()"
      ]
    },
    {
      "cell_type": "markdown",
      "metadata": {
        "id": "BcsimQd4shrk"
      },
      "source": [
        "<font color=\"cyan\">Roughly 6K data points consists of movies while 2.5K consists of T.V Series </font>"
      ]
    },
    {
      "cell_type": "code",
      "execution_count": null,
      "metadata": {
        "colab": {
          "base_uri": "https://localhost:8080/",
          "height": 369
        },
        "id": "B4XRqDsbshN9",
        "outputId": "78ab6caa-e9fa-40be-8815-c567b84d7c75"
      },
      "outputs": [
        {
          "output_type": "display_data",
          "data": {
            "text/plain": [
              "<Figure size 360x360 with 1 Axes>"
            ],
            "image/png": "[encoded data removed]"
          },
          "metadata": {
            "needs_background": "light"
          }
        }
      ],
      "source": [
        "sns.displot(data=df, x='release_year', palette='YlGnBu', kind='kde')\n",
        "plt.grid()\n",
        "plt.show()"
      ]
    },
    {
      "cell_type": "markdown",
      "metadata": {
        "id": "9E34zZ83gNCk"
      },
      "source": [
        "<font color=\"cyan\">Most of the movies were roughly released from 2016 onwards, having peak at 2018 as seen from the previous observation </font>"
      ]
    },
    {
      "cell_type": "code",
      "execution_count": null,
      "metadata": {
        "id": "wCea4s_woROl"
      },
      "outputs": [],
      "source": [
        "dates = df[['date_added']].dropna()\n",
        "dates['month'] = dates['date_added'].apply(lambda x: x.strip().split(',')[0].split()[0])\n",
        "dates['year'] = dates['date_added'].apply(lambda x: x.strip().split(',')[-1])\n",
        "dates = dates.drop('date_added', axis=1)"
      ]
    },
    {
      "cell_type": "code",
      "execution_count": null,
      "metadata": {
        "id": "gDurZaNc3Hrz"
      },
      "outputs": [],
      "source": [
        "month_order = ['January', 'February', 'March', 'April', 'May', 'June', 'July', 'August', 'September', 'October', 'November', 'December'][::-1]\n",
        "year_month = dates.groupby('year')['month'].value_counts().unstack().fillna(0)[month_order].T.astype(int)"
      ]
    },
    {
      "cell_type": "code",
      "execution_count": null,
      "metadata": {
        "colab": {
          "base_uri": "https://localhost:8080/",
          "height": 606
        },
        "id": "UWqQ-euo4Skf",
        "outputId": "19119f4b-cd28-465c-8966-366600d7aa73"
      },
      "outputs": [
        {
          "output_type": "display_data",
          "data": {
            "text/plain": [
              "<Figure size 1440x720 with 2 Axes>"
            ],
            "image/png": "[encoded data removed]"
          },
          "metadata": {
            "needs_background": "light"
          }
        }
      ],
      "source": [
        "sns.heatmap(year_month, annot=True, fmt='d', cmap=\"YlGnBu\")\n",
        "plt.show()"
      ]
    },
    {
      "cell_type": "markdown",
      "metadata": {
        "id": "Zyt7jv1dxDaW"
      },
      "source": [
        "<font color=\"cyan\">In 2018, 2019 & 2020, Netflix has uploaded most of the content during winters. Whereas in Q3, 2021, Netflix uploaded most of the content. From 2008 - 2016, few of the content was release on Netflix.  </font>"
      ]
    },
    {
      "cell_type": "code",
      "execution_count": null,
      "metadata": {
        "colab": {
          "base_uri": "https://localhost:8080/",
          "height": 606
        },
        "id": "wDWP_N0W8_sH",
        "outputId": "acd10673-7807-4fa0-86fe-6c00cc5a8ccb"
      },
      "outputs": [
        {
          "output_type": "display_data",
          "data": {
            "text/plain": [
              "<Figure size 1440x720 with 1 Axes>"
            ],
            "image/png": "[encoded data removed]"
          },
          "metadata": {
            "needs_background": "light"
          }
        }
      ],
      "source": [
        "sns.countplot(data=df, y=\"rating\", order=df['rating'].value_counts().index[0:10], palette=\"YlGnBu\")\n",
        "plt.show()"
      ]
    },
    {
      "cell_type": "markdown",
      "metadata": {
        "id": "27HbVxydy5ai"
      },
      "source": [
        "<font color=\"cyan\">TV-MA is the most popular rating among 17 different categories, followed by TV-14 & TV-PG respectively.</font>"
      ]
    },
    {
      "cell_type": "code",
      "execution_count": null,
      "metadata": {
        "colab": {
          "base_uri": "https://localhost:8080/",
          "height": 623
        },
        "id": "XYwn8C7_Dh5R",
        "outputId": "bee65e81-1969-40d3-bc7d-59e07ffa72b7"
      },
      "outputs": [
        {
          "output_type": "execute_result",
          "data": {
            "text/plain": [
              "<matplotlib.axes._subplots.AxesSubplot at 0x7fb140ce9550>"
            ]
          },
          "metadata": {},
          "execution_count": 41
        },
        {
          "output_type": "display_data",
          "data": {
            "text/plain": [
              "<Figure size 1440x720 with 1 Axes>"
            ],
            "image/png": "[encoded data removed]"
          },
          "metadata": {
            "needs_background": "light"
          }
        }
      ],
      "source": [
        "sns.countplot(data=df, y=\"release_year\", palette=\"YlGnBu\", order=df['release_year'].value_counts().index[0:10])"
      ]
    },
    {
      "cell_type": "markdown",
      "metadata": {
        "id": "T_gM4hNyzROm"
      },
      "source": [
        "<font color=\"cyan\">According to the data, most content was release in the year of 2018.</font>"
      ]
    },
    {
      "cell_type": "code",
      "execution_count": null,
      "metadata": {
        "id": "YRLPK232DpAj"
      },
      "outputs": [],
      "source": [
        "movie_mask = (df['type'] == \"Movie\")\n",
        "movies_duration = df[movie_mask][['duration', 'title', 'country', 'rating']]\n",
        "movies_duration = movies_duration.dropna()\n",
        "movies_duration['min'] = movies_duration['duration'].str.split(' ', expand=True)[0]\n",
        "movies_duration['min'] = movies_duration['min'].astype(int)\n",
        "movies_duration['hour'] = movies_duration['min'] // 60"
      ]
    },
    {
      "cell_type": "code",
      "execution_count": null,
      "metadata": {
        "colab": {
          "base_uri": "https://localhost:8080/",
          "height": 606
        },
        "id": "IRWKuuapWF4a",
        "outputId": "ae3faa74-0f7b-4052-f48c-e8d386405306"
      },
      "outputs": [
        {
          "output_type": "display_data",
          "data": {
            "text/plain": [
              "<Figure size 1440x720 with 1 Axes>"
            ],
            "image/png": "[encoded data removed]"
          },
          "metadata": {
            "needs_background": "light"
          }
        }
      ],
      "source": [
        "sns.countplot(data=movies_duration, y='duration', order=movies_duration['duration'].value_counts().index[:10], palette=\"YlGnBu\")\n",
        "plt.show()"
      ]
    },
    {
      "cell_type": "markdown",
      "metadata": {
        "id": "HqAI5XFH0OJl"
      },
      "source": [
        "<font color=\"cyan\">1.5 Hrs (90 min) is the most popular duration of movies on Netflix, followed by 94 mins and 93 mins respectively.</font>"
      ]
    },
    {
      "cell_type": "code",
      "execution_count": null,
      "metadata": {
        "colab": {
          "base_uri": "https://localhost:8080/",
          "height": 606
        },
        "id": "_hYHk-dqO_vj",
        "outputId": "abd1bdfc-b234-49a9-8024-b376c166a77c"
      },
      "outputs": [
        {
          "output_type": "display_data",
          "data": {
            "text/plain": [
              "<Figure size 1440x720 with 1 Axes>"
            ],
            "image/png": "[encoded data removed]"
          },
          "metadata": {
            "needs_background": "light"
          }
        }
      ],
      "source": [
        "top_10_movies_by_duration = movies_duration.sort_values(by='hour',ascending=False)[:10]\n",
        "sns.barplot(data=top_10_movies_by_duration, y='title', x='hour', hue='country', palette=\"YlGnBu\")\n",
        "plt.show()"
      ]
    },
    {
      "cell_type": "markdown",
      "metadata": {
        "id": "YKqDmbwE0tEf"
      },
      "source": [
        "<font color=\"cyan\">In Movies, **Black Mirror: Bandersnatch** has the most longest duration in United States, followed by **The School of Mischief** produced in Egypt having the duration of 4 Hrs.</font>"
      ]
    },
    {
      "cell_type": "code",
      "execution_count": null,
      "metadata": {
        "id": "yMGbTRzcf4f_"
      },
      "outputs": [],
      "source": [
        "type_mask = (df['type'] != \"Movie\")\n",
        "tv_duration = df[type_mask][['duration', 'title', 'country', 'rating']]\n",
        "tv_duration = tv_duration.dropna()\n",
        "tv_duration['season'] = tv_duration['duration'].str.split(' ', expand=True)[0]\n",
        "tv_duration['season'] = tv_duration['season'].astype(int)"
      ]
    },
    {
      "cell_type": "code",
      "execution_count": null,
      "metadata": {
        "colab": {
          "base_uri": "https://localhost:8080/",
          "height": 606
        },
        "id": "oLhP5-8HXIRy",
        "outputId": "9afa7d0e-7f3f-4919-8fb2-72e286792b72"
      },
      "outputs": [
        {
          "output_type": "display_data",
          "data": {
            "text/plain": [
              "<Figure size 1440x720 with 1 Axes>"
            ],
            "image/png": "[encoded data removed]"
          },
          "metadata": {
            "needs_background": "light"
          }
        }
      ],
      "source": [
        "sns.countplot(data=tv_duration, y='duration', order=tv_duration['duration'].value_counts().index[:10], palette=\"YlGnBu\")\n",
        "plt.show()"
      ]
    },
    {
      "cell_type": "markdown",
      "metadata": {
        "id": "1Wvyf43B19Kd"
      },
      "source": [
        "<font color=\"cyan\">In TV Series, most of the content available is premering only 1 season</font>"
      ]
    },
    {
      "cell_type": "code",
      "execution_count": null,
      "metadata": {
        "colab": {
          "base_uri": "https://localhost:8080/",
          "height": 606
        },
        "id": "_ZhWZRKVhA98",
        "outputId": "15f31ec3-f969-47ee-d123-68180a77eec3"
      },
      "outputs": [
        {
          "output_type": "display_data",
          "data": {
            "text/plain": [
              "<Figure size 1440x720 with 1 Axes>"
            ],
            "image/png": "[encoded data removed]"
          },
          "metadata": {
            "needs_background": "light"
          }
        }
      ],
      "source": [
        "top_15_tv_by_duration = tv_duration.sort_values(by='season',ascending=False)[:15]\n",
        "sns.barplot(data=top_15_tv_by_duration, y='title', x='season', hue='country', palette=\"YlGnBu\")\n",
        "plt.show()"
      ]
    },
    {
      "cell_type": "markdown",
      "source": [
        "<font color=\"cyan\">Grey's Anatomy has the highest #seasons from United States, followed by Supernatural in United States & Canada</font>"
      ],
      "metadata": {
        "id": "qTwgAduwmtsn"
      }
    },
    {
      "cell_type": "code",
      "execution_count": null,
      "metadata": {
        "colab": {
          "base_uri": "https://localhost:8080/",
          "height": 606
        },
        "id": "o7yWbZvqXX9L",
        "outputId": "21d9d72e-efd6-488f-94bb-51221f958253"
      },
      "outputs": [
        {
          "output_type": "display_data",
          "data": {
            "text/plain": [
              "<Figure size 1440x720 with 1 Axes>"
            ],
            "image/png": "[encoded data removed]"
          },
          "metadata": {
            "needs_background": "light"
          }
        }
      ],
      "source": [
        "sns.boxplot(data=df, x='release_year', y='type', palette=\"YlGnBu\")\n",
        "plt.show()"
      ]
    },
    {
      "cell_type": "markdown",
      "source": [
        "<font color=\"cyan\">From the data, it looks like we have few outliers in T.V Show release year i.e., starts from 1925, then 2 data points in the range of 1940s-1960s. While, in movies, we can few movies being released in the 1940s-1950s. </font>"
      ],
      "metadata": {
        "id": "T08tRwrvnK4k"
      }
    },
    {
      "cell_type": "code",
      "execution_count": null,
      "metadata": {
        "id": "ua4cTUA2UG9R",
        "colab": {
          "base_uri": "https://localhost:8080/"
        },
        "outputId": "ac0581f8-1333-49a1-eae9-b0715c3bba73"
      },
      "outputs": [
        {
          "output_type": "stream",
          "name": "stdout",
          "text": [
            "75th and 25th Release Year (Movie) percentile is 2018.0 & 2012.0 respectively.\n",
            "Inter Quartile Range (Movies) is 6\n"
          ]
        }
      ],
      "source": [
        "#Interquartile range of movies release year\n",
        "movies_mask = (df['type'] == \"Movie\")\n",
        "movies_release_year = df.loc[movies_mask, 'release_year'].values\n",
        "IQR_movies = int(np.percentile(movies_release_year, 75) - np.percentile(movies_release_year, 25))\n",
        "print(f'75th and 25th Release Year (Movie) percentile is {np.percentile(movies_release_year, 75)} & {np.percentile(movies_release_year, 25)} respectively.')\n",
        "print('Inter Quartile Range (Movies) is', IQR_movies)"
      ]
    },
    {
      "cell_type": "code",
      "source": [
        "#Interquartile range of movies release year\n",
        "tv_mask = (df['type'] != \"Movie\")\n",
        "tv_release_year = df.loc[tv_mask, 'release_year'].values\n",
        "IQR_tv = int(np.percentile(tv_release_year, 75) - np.percentile(tv_release_year, 25))\n",
        "print(f'75th and 25th Release Year (TV Show) percentile is {np.percentile(tv_release_year, 75)} & {np.percentile(tv_release_year, 25)} respectively.')\n",
        "print('Inter Quartile Range (TV Show) is', IQR_tv)"
      ],
      "metadata": {
        "colab": {
          "base_uri": "https://localhost:8080/"
        },
        "id": "MohfRgUXpXcD",
        "outputId": "58354962-05ea-4a93-8a07-550d81f5d386"
      },
      "execution_count": null,
      "outputs": [
        {
          "output_type": "stream",
          "name": "stdout",
          "text": [
            "75th and 25th Release Year (TV Show) percentile is 2020.0 & 2016.0 respectively.\n",
            "Inter Quartile Range (TV Show) is 4\n"
          ]
        }
      ]
    },
    {
      "cell_type": "markdown",
      "source": [
        "## <font color=\"red\">Analysis</font>\n",
        "\n",
        "1. Most of the content is available in the form of Movies having duration of 90 mins (1.5 Hrs).\n",
        "2. Majority content is coming from United States & United Kingdom.\n",
        "3. In Movies, most popular genre is Action & Adventure. In TV Shows, most popular genre is British T.V Shows.\n",
        "4. Most of the content was uploaded during the year of 2018-2021.\n",
        "5. TV-MA is the most popular rating among other ratings.\n",
        "6. Most movies are available in 90 min duration, while T.V Shows are available in single season.\n"
      ],
      "metadata": {
        "id": "ttygULcprsst"
      }
    },
    {
      "cell_type": "markdown",
      "source": [
        "## <font color=\"red\">Recommendations</font>\n",
        "\n",
        "1. Netflix should focus on adding more movies with duration ranging from 90 - 95 mins.\n",
        "2. Generally, Q4 & Q1 are the best times to upload content on the platform.\n",
        "3. TV-MA, TV-14, TV-PG & R are some of the most popular rated contents that should be available.\n",
        "4. Action & Adventure, British TV Shows, Anime Series, & Comedy are few of the genres that should be featured on the platform.\n"
      ],
      "metadata": {
        "id": "wqraYKVEwnYk"
      }
    },
    {
      "cell_type": "code",
      "source": [
        ""
      ],
      "metadata": {
        "id": "CJac_XyNpYvV"
      },
      "execution_count": null,
      "outputs": []
    }
  ],
  "metadata": {
    "colab": {
      "collapsed_sections": [
        "--IKttdDSEhS"
      ],
      "name": "Netflix.ipynb",
      "provenance": [],
      "include_colab_link": true
    },
    "kernelspec": {
      "display_name": "Python 3",
      "name": "python3"
    },
    "language_info": {
      "name": "python"
    }
  },
  "nbformat": 4,
  "nbformat_minor": 0
}